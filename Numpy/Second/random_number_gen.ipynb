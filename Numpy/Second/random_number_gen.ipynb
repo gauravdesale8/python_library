{
 "cells": [
  {
   "cell_type": "code",
   "execution_count": 1,
   "metadata": {},
   "outputs": [],
   "source": [
    "import numpy as np"
   ]
  },
  {
   "cell_type": "code",
   "execution_count": 3,
   "metadata": {},
   "outputs": [
    {
     "data": {
      "text/plain": [
       "array([0.39682145, 0.86568572, 0.46040359, 0.30599848, 0.57381588,\n",
       "       0.08888468, 0.88194347, 0.73228387, 0.73215182, 0.56233394])"
      ]
     },
     "execution_count": 3,
     "metadata": {},
     "output_type": "execute_result"
    }
   ],
   "source": [
    "# 616 is a seed\n",
    "rng = np.random.default_rng(616)\n",
    "\n",
    "rng.random(10)"
   ]
  },
  {
   "cell_type": "code",
   "execution_count": 4,
   "metadata": {},
   "outputs": [
    {
     "data": {
      "text/plain": [
       "array([0.39682145, 0.86568572, 0.46040359, 0.30599848, 0.57381588])"
      ]
     },
     "execution_count": 4,
     "metadata": {},
     "output_type": "execute_result"
    }
   ],
   "source": [
    "rng = np.random.default_rng(616)\n",
    "\n",
    "rng.random(5)"
   ]
  },
  {
   "cell_type": "code",
   "execution_count": 6,
   "metadata": {},
   "outputs": [
    {
     "data": {
      "text/plain": [
       "array([0.39682145, 0.86568572, 0.46040359, 0.30599848, 0.57381588,\n",
       "       0.08888468, 0.88194347, 0.73228387, 0.73215182, 0.56233394,\n",
       "       0.33966929, 0.062511  , 0.35706816, 0.20250319, 0.4305179 ,\n",
       "       0.1033163 , 0.52396562, 0.80203893, 0.07529808, 0.15143375,\n",
       "       0.89684192, 0.66336909, 0.72612724, 0.76560278, 0.02961401,\n",
       "       0.77821778, 0.96179431, 0.18988288, 0.16903606, 0.47431033,\n",
       "       0.59182385, 0.42537177, 0.82177265, 0.38023964, 0.02154055,\n",
       "       0.98150375, 0.54986705, 0.50866454, 0.22631697, 0.01686436,\n",
       "       0.8520208 , 0.89723864, 0.80578865, 0.90879236, 0.37141849,\n",
       "       0.41116148, 0.29953469, 0.35593281, 0.37394491, 0.03692463,\n",
       "       0.43744429, 0.57010814, 0.19746347, 0.28743367, 0.77594544,\n",
       "       0.22445369, 0.49109205, 0.63450957, 0.34689249, 0.50827751,\n",
       "       0.80364437, 0.55857875, 0.54981699, 0.93059545, 0.11717621,\n",
       "       0.695153  , 0.47241633, 0.53068063, 0.29480844, 0.30735776,\n",
       "       0.93511134, 0.07721433, 0.35905049, 0.72180595, 0.39022153,\n",
       "       0.22152597, 0.48662891, 0.76138129, 0.16711022, 0.64324466,\n",
       "       0.26020707, 0.71974437, 0.69220868, 0.38767211, 0.07808919,\n",
       "       0.26657983, 0.88703137, 0.02319653, 0.52328187, 0.629511  ,\n",
       "       0.16353869, 0.5965368 , 0.50079685, 0.05894507, 0.67653636,\n",
       "       0.93720111, 0.87591048, 0.33560195, 0.6329499 , 0.62927394])"
      ]
     },
     "execution_count": 6,
     "metadata": {},
     "output_type": "execute_result"
    }
   ],
   "source": [
    "rng = np.random.default_rng(616)\n",
    "rng.random(100)"
   ]
  },
  {
   "cell_type": "code",
   "execution_count": 9,
   "metadata": {},
   "outputs": [
    {
     "data": {
      "text/plain": [
       "array([8, 6, 3, 2, 2, 5, 2, 6, 9, 2, 5, 0, 6, 1, 3, 1, 9, 4, 4, 2, 0, 1,\n",
       "       6, 5, 0, 9, 2, 5, 5, 2, 1, 8, 6, 6, 5, 4, 4, 0, 0, 1, 3, 8, 0, 2,\n",
       "       3, 5, 8, 6, 9, 8, 3, 9, 7, 1, 7, 9, 6, 4, 6, 0, 9, 8, 1, 2, 5, 5,\n",
       "       9, 8, 3, 0, 9, 8, 3, 7, 5, 6, 4, 8, 0, 8, 0, 4, 9, 0, 7, 7, 0, 7,\n",
       "       1, 5, 7, 7, 7, 8, 3, 7, 3, 8, 5, 7], dtype=int64)"
      ]
     },
     "execution_count": 9,
     "metadata": {},
     "output_type": "execute_result"
    }
   ],
   "source": [
    "rng.integers(0,10,100)"
   ]
  },
  {
   "cell_type": "code",
   "execution_count": 10,
   "metadata": {},
   "outputs": [
    {
     "data": {
      "text/plain": [
       "array([50.28576144, 60.12955299, 55.25932041, 48.81370977, 52.16739133,\n",
       "       53.62267161, 52.54240686, 47.27704318, 54.14478875, 40.40326606])"
      ]
     },
     "execution_count": 10,
     "metadata": {},
     "output_type": "execute_result"
    }
   ],
   "source": [
    "rng.normal(50,5,10)"
   ]
  }
 ],
 "metadata": {
  "kernelspec": {
   "display_name": "Python 3",
   "language": "python",
   "name": "python3"
  },
  "language_info": {
   "codemirror_mode": {
    "name": "ipython",
    "version": 3
   },
   "file_extension": ".py",
   "mimetype": "text/x-python",
   "name": "python",
   "nbconvert_exporter": "python",
   "pygments_lexer": "ipython3",
   "version": "3.11.2"
  },
  "orig_nbformat": 4
 },
 "nbformat": 4,
 "nbformat_minor": 2
}
